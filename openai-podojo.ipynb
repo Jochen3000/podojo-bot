{
 "cells": [
  {
   "cell_type": "markdown",
   "id": "03e84552",
   "metadata": {},
   "source": [
    "# OpenAI podojo docs\n",
    "This takes a txt file as an input and generates and embeddings file"
   ]
  },
  {
   "cell_type": "code",
   "execution_count": 1,
   "id": "bd0f74fc",
   "metadata": {},
   "outputs": [],
   "source": [
    "import pandas as pd\n",
    "from io import open\n",
    "import numpy as np"
   ]
  },
  {
   "cell_type": "markdown",
   "id": "027f1ce9",
   "metadata": {},
   "source": [
    "### Define the import file"
   ]
  },
  {
   "cell_type": "code",
   "execution_count": 2,
   "id": "3312e400",
   "metadata": {},
   "outputs": [],
   "source": [
    "filename = 'all-files'"
   ]
  },
  {
   "cell_type": "code",
   "execution_count": 3,
   "id": "12ad50db",
   "metadata": {},
   "outputs": [],
   "source": [
    "# variables\n",
    "import_filename = 'text-cleaned/' + filename + '.txt'\n",
    "processed_filename = 'processed/' + filename + '.csv'\n",
    "embeddings_filename = 'embeddings/' + filename + '.csv'"
   ]
  },
  {
   "cell_type": "code",
   "execution_count": 4,
   "id": "ba199f50",
   "metadata": {},
   "outputs": [],
   "source": [
    "# Load text file as plain text\n",
    "with open(import_filename, encoding='utf-8') as f:\n",
    "    text = f.read()"
   ]
  },
  {
   "cell_type": "code",
   "execution_count": 5,
   "id": "644fb10e",
   "metadata": {},
   "outputs": [],
   "source": [
    "# Convert text to a pandas series\n",
    "text_series = pd.Series(text.split('\\n'))"
   ]
  },
  {
   "cell_type": "code",
   "execution_count": 6,
   "id": "8103478f",
   "metadata": {},
   "outputs": [
    {
     "name": "stdout",
     "output_type": "stream",
     "text": [
      "0                                 WHAT IS A CULTURE MAP?\n",
      "1      With the Culture Map you can visualize the cul...\n",
      "2                                                       \n",
      "3      The Culture Map is utilized in various situati...\n",
      "4                                                       \n",
      "                             ...                        \n",
      "245                                                     \n",
      "246    This may sound trivial but we have seen so man...\n",
      "247                                                     \n",
      "248                              There is no good or bad\n",
      "249    So setting the context and framing the task as...\n",
      "Length: 250, dtype: object\n"
     ]
    }
   ],
   "source": [
    "print(text_series)"
   ]
  },
  {
   "cell_type": "code",
   "execution_count": 7,
   "id": "86915359",
   "metadata": {},
   "outputs": [],
   "source": [
    "# remove spaces\n",
    "text_series = text_series.str.strip()\n",
    "# remove empty lines full of spaces\n",
    "text_series = text_series.apply(lambda x: x.strip())"
   ]
  },
  {
   "cell_type": "code",
   "execution_count": 8,
   "id": "717ad113",
   "metadata": {},
   "outputs": [],
   "source": [
    "# remove empty lines\n",
    "text_series = text_series.str.strip().replace('', np.nan).dropna()\n",
    "text_series.dropna(inplace=True)"
   ]
  },
  {
   "cell_type": "code",
   "execution_count": 9,
   "id": "ff23e31e",
   "metadata": {},
   "outputs": [
    {
     "name": "stdout",
     "output_type": "stream",
     "text": [
      "0                                 WHAT IS A CULTURE MAP?\n",
      "1      With the Culture Map you can visualize the cul...\n",
      "3      The Culture Map is utilized in various situati...\n",
      "5          Developing hypotheses during a change process\n",
      "6      Identifying hidden assumptions during a team r...\n",
      "                             ...                        \n",
      "243                               Three modes of working\n",
      "244    Observing customers, designing value propositi...\n",
      "246    This may sound trivial but we have seen so man...\n",
      "248                              There is no good or bad\n",
      "249    So setting the context and framing the task as...\n",
      "Length: 168, dtype: object\n"
     ]
    }
   ],
   "source": [
    "print(text_series)"
   ]
  },
  {
   "cell_type": "code",
   "execution_count": 10,
   "id": "3626acc2",
   "metadata": {},
   "outputs": [],
   "source": [
    "text_series = text_series.str.replace('\\n', '')\n",
    "text_series = text_series.str.replace('\\\\n', '', regex=True)\n",
    "text_series = text_series.str.replace('-', ' ').str.replace('_', ' ')\n",
    "text_series = text_series.str.replace('  ', ' ')\n",
    "#put a space between lowercase and uppercase letters\n",
    "text_series = text_series.str.replace(r'([a-z])([A-Z])', r'\\1 \\2', regex=True)\n",
    "#put space between ? and character\n",
    "text_series = text_series.str.replace(r'(\\?)([^\\s])', r'\\1 \\2', regex=True)\n",
    "text_series = text_series.str.replace(r'\\.([A-Z])', r'. \\1', regex=True)"
   ]
  },
  {
   "cell_type": "code",
   "execution_count": 11,
   "id": "8a849b70",
   "metadata": {},
   "outputs": [
    {
     "data": {
      "text/plain": [
       "0                               WHAT IS A CULTURE MAP?\n",
       "1    With the Culture Map you can visualize the cul...\n",
       "3    The Culture Map is utilized in various situati...\n",
       "5        Developing hypotheses during a change process\n",
       "6    Identifying hidden assumptions during a team r...\n",
       "dtype: object"
      ]
     },
     "execution_count": 11,
     "metadata": {},
     "output_type": "execute_result"
    }
   ],
   "source": [
    "text_series.head()"
   ]
  },
  {
   "cell_type": "markdown",
   "id": "f438d21f",
   "metadata": {},
   "source": [
    "### Convert series to DF and save as csv"
   ]
  },
  {
   "cell_type": "code",
   "execution_count": 12,
   "id": "0054b237",
   "metadata": {},
   "outputs": [
    {
     "name": "stdout",
     "output_type": "stream",
     "text": [
      "                                                  text\n",
      "0                               WHAT IS A CULTURE MAP?\n",
      "1    With the Culture Map you can visualize the cul...\n",
      "3    The Culture Map is utilized in various situati...\n",
      "5        Developing hypotheses during a change process\n",
      "6    Identifying hidden assumptions during a team r...\n",
      "..                                                 ...\n",
      "243                             Three modes of working\n",
      "244  Observing customers, designing value propositi...\n",
      "246  This may sound trivial but we have seen so man...\n",
      "248                            There is no good or bad\n",
      "249  So setting the context and framing the task as...\n",
      "\n",
      "[168 rows x 1 columns]\n"
     ]
    }
   ],
   "source": [
    "df = text_series.to_frame()\n",
    "df.columns = ['text']\n",
    "print(df)"
   ]
  },
  {
   "cell_type": "code",
   "execution_count": 13,
   "id": "c6eda7de",
   "metadata": {},
   "outputs": [],
   "source": [
    "df.to_csv(processed_filename, index=False)"
   ]
  },
  {
   "cell_type": "markdown",
   "id": "8e0c12ab",
   "metadata": {},
   "source": [
    "### Tokenize "
   ]
  },
  {
   "cell_type": "code",
   "execution_count": 14,
   "id": "1d1bd58f",
   "metadata": {},
   "outputs": [],
   "source": [
    "import tiktoken"
   ]
  },
  {
   "cell_type": "code",
   "execution_count": 15,
   "id": "9565547a",
   "metadata": {},
   "outputs": [],
   "source": [
    "# Load the cl100k_base tokenizer which is designed to work with the ada-002 model\n",
    "tokenizer = tiktoken.get_encoding(\"cl100k_base\")"
   ]
  },
  {
   "cell_type": "code",
   "execution_count": 16,
   "id": "3030828b",
   "metadata": {},
   "outputs": [],
   "source": [
    "# Tokenize the text and save the number of tokens to a new column\n",
    "df['n_tokens'] = df.text.apply(lambda x: len(tokenizer.encode(x)))"
   ]
  },
  {
   "cell_type": "code",
   "execution_count": 17,
   "id": "52b2ab76",
   "metadata": {},
   "outputs": [
    {
     "data": {
      "text/plain": [
       "<AxesSubplot: >"
      ]
     },
     "execution_count": 17,
     "metadata": {},
     "output_type": "execute_result"
    },
    {
     "data": {
      "image/png": "[encoded data removed]",
      "text/plain": [
       "<Figure size 640x480 with 1 Axes>"
      ]
     },
     "metadata": {},
     "output_type": "display_data"
    }
   ],
   "source": [
    "# Visualize the distribution of the number of tokens per row using a histogram\n",
    "df.n_tokens.hist()"
   ]
  },
  {
   "cell_type": "code",
   "execution_count": 18,
   "id": "e56dd479",
   "metadata": {},
   "outputs": [],
   "source": [
    "max_tokens = 500\n",
    "\n",
    "# Function to split the text into chunks of a maximum number of tokens\n",
    "def split_into_many(text, max_tokens = max_tokens):\n",
    "\n",
    "    # Split the text into sentences\n",
    "    sentences = text.split('. ')\n",
    "\n",
    "    # Get the number of tokens for each sentence\n",
    "    n_tokens = [len(tokenizer.encode(\" \" + sentence)) for sentence in sentences]\n",
    "    \n",
    "    chunks = []\n",
    "    tokens_so_far = 0\n",
    "    chunk = []\n",
    "\n",
    "    # Loop through the sentences and tokens joined together in a tuple\n",
    "    for sentence, token in zip(sentences, n_tokens):\n",
    "\n",
    "        # If the number of tokens so far plus the number of tokens in the current sentence is greater \n",
    "        # than the max number of tokens, then add the chunk to the list of chunks and reset\n",
    "        # the chunk and tokens so far\n",
    "        if tokens_so_far + token > max_tokens:\n",
    "            chunks.append(\". \".join(chunk) + \".\")\n",
    "            chunk = []\n",
    "            tokens_so_far = 0\n",
    "\n",
    "        # If the number of tokens in the current sentence is greater than the max number of \n",
    "        # tokens, go to the next sentence\n",
    "        if token > max_tokens:\n",
    "            continue\n",
    "\n",
    "        # Otherwise, add the sentence to the chunk and add the number of tokens to the total\n",
    "        chunk.append(sentence)\n",
    "        tokens_so_far += token + 1\n",
    "\n",
    "    return chunks\n",
    "    \n",
    "\n",
    "shortened = []\n",
    "\n",
    "# Loop through the dataframe\n",
    "for row in df.iterrows():\n",
    "\n",
    "    # If the text is None, go to the next row\n",
    "    if row[1]['text'] is None:\n",
    "        continue\n",
    "\n",
    "    # If the number of tokens is greater than the max number of tokens, split the text into chunks\n",
    "    if row[1]['n_tokens'] > max_tokens:\n",
    "        shortened += split_into_many(row[1]['text'])\n",
    "    \n",
    "    # Otherwise, add the text to the list of shortened texts\n",
    "    else:\n",
    "        shortened.append( row[1]['text'] )"
   ]
  },
  {
   "cell_type": "code",
   "execution_count": 19,
   "id": "51f18167",
   "metadata": {},
   "outputs": [
    {
     "data": {
      "text/plain": [
       "<AxesSubplot: >"
      ]
     },
     "execution_count": 19,
     "metadata": {},
     "output_type": "execute_result"
    },
    {
     "data": {
      "image/png": "[encoded data removed]",
      "text/plain": [
       "<Figure size 640x480 with 1 Axes>"
      ]
     },
     "metadata": {},
     "output_type": "display_data"
    }
   ],
   "source": [
    "df = pd.DataFrame(shortened, columns = ['text'])\n",
    "df['n_tokens'] = df.text.apply(lambda x: len(tokenizer.encode(x)))\n",
    "df.n_tokens.hist()"
   ]
  },
  {
   "cell_type": "markdown",
   "id": "f257dcb8",
   "metadata": {},
   "source": [
    "### Create embeddings"
   ]
  },
  {
   "cell_type": "code",
   "execution_count": 20,
   "id": "eee66968",
   "metadata": {},
   "outputs": [],
   "source": [
    "import openai\n",
    "from dotenv import load_dotenv\n",
    "import os"
   ]
  },
  {
   "cell_type": "code",
   "execution_count": 21,
   "id": "516e8a57",
   "metadata": {},
   "outputs": [],
   "source": [
    "load_dotenv(\".env\")\n",
    "openai.api_key = os.getenv(\"OPENAI_API_KEY\")"
   ]
  },
  {
   "cell_type": "code",
   "execution_count": 22,
   "id": "38cefd1e",
   "metadata": {},
   "outputs": [
    {
     "data": {
      "text/html": [
       "<div>\n",
       "<style scoped>\n",
       "    .dataframe tbody tr th:only-of-type {\n",
       "        vertical-align: middle;\n",
       "    }\n",
       "\n",
       "    .dataframe tbody tr th {\n",
       "        vertical-align: top;\n",
       "    }\n",
       "\n",
       "    .dataframe thead th {\n",
       "        text-align: right;\n",
       "    }\n",
       "</style>\n",
       "<table border=\"1\" class=\"dataframe\">\n",
       "  <thead>\n",
       "    <tr style=\"text-align: right;\">\n",
       "      <th></th>\n",
       "      <th>text</th>\n",
       "      <th>n_tokens</th>\n",
       "      <th>embeddings</th>\n",
       "    </tr>\n",
       "  </thead>\n",
       "  <tbody>\n",
       "    <tr>\n",
       "      <th>0</th>\n",
       "      <td>WHAT IS A CULTURE MAP?</td>\n",
       "      <td>8</td>\n",
       "      <td>[-0.021535981446504593, -0.0006195246824063361...</td>\n",
       "    </tr>\n",
       "    <tr>\n",
       "      <th>1</th>\n",
       "      <td>With the Culture Map you can visualize the cul...</td>\n",
       "      <td>37</td>\n",
       "      <td>[-0.03665049001574516, 0.002686046762391925, 0...</td>\n",
       "    </tr>\n",
       "    <tr>\n",
       "      <th>2</th>\n",
       "      <td>The Culture Map is utilized in various situati...</td>\n",
       "      <td>11</td>\n",
       "      <td>[-0.019889313727617264, 0.013448194600641727, ...</td>\n",
       "    </tr>\n",
       "    <tr>\n",
       "      <th>3</th>\n",
       "      <td>Developing hypotheses during a change process</td>\n",
       "      <td>7</td>\n",
       "      <td>[0.002740309340879321, 0.00392221100628376, -0...</td>\n",
       "    </tr>\n",
       "    <tr>\n",
       "      <th>4</th>\n",
       "      <td>Identifying hidden assumptions during a team r...</td>\n",
       "      <td>8</td>\n",
       "      <td>[0.010800959542393684, -0.013984978199005127, ...</td>\n",
       "    </tr>\n",
       "  </tbody>\n",
       "</table>\n",
       "</div>"
      ],
      "text/plain": [
       "                                                text  n_tokens  \\\n",
       "0                             WHAT IS A CULTURE MAP?         8   \n",
       "1  With the Culture Map you can visualize the cul...        37   \n",
       "2  The Culture Map is utilized in various situati...        11   \n",
       "3      Developing hypotheses during a change process         7   \n",
       "4  Identifying hidden assumptions during a team r...         8   \n",
       "\n",
       "                                          embeddings  \n",
       "0  [-0.021535981446504593, -0.0006195246824063361...  \n",
       "1  [-0.03665049001574516, 0.002686046762391925, 0...  \n",
       "2  [-0.019889313727617264, 0.013448194600641727, ...  \n",
       "3  [0.002740309340879321, 0.00392221100628376, -0...  \n",
       "4  [0.010800959542393684, -0.013984978199005127, ...  "
      ]
     },
     "execution_count": 22,
     "metadata": {},
     "output_type": "execute_result"
    }
   ],
   "source": [
    "df['embeddings'] = df.text.apply(lambda x: openai.Embedding.create(input=x, engine='text-embedding-ada-002')['data'][0]['embedding'])\n",
    "\n",
    "df.to_csv(embeddings_filename)\n",
    "df.head()"
   ]
  },
  {
   "cell_type": "code",
   "execution_count": 23,
   "id": "3b71cfdc",
   "metadata": {},
   "outputs": [],
   "source": [
    "import numpy as np"
   ]
  },
  {
   "cell_type": "code",
   "execution_count": 24,
   "id": "bfe3bbed",
   "metadata": {},
   "outputs": [],
   "source": [
    "from openai.embeddings_utils import distances_from_embeddings"
   ]
  },
  {
   "cell_type": "code",
   "execution_count": 25,
   "id": "28e8ee87",
   "metadata": {},
   "outputs": [
    {
     "data": {
      "text/html": [
       "<div>\n",
       "<style scoped>\n",
       "    .dataframe tbody tr th:only-of-type {\n",
       "        vertical-align: middle;\n",
       "    }\n",
       "\n",
       "    .dataframe tbody tr th {\n",
       "        vertical-align: top;\n",
       "    }\n",
       "\n",
       "    .dataframe thead th {\n",
       "        text-align: right;\n",
       "    }\n",
       "</style>\n",
       "<table border=\"1\" class=\"dataframe\">\n",
       "  <thead>\n",
       "    <tr style=\"text-align: right;\">\n",
       "      <th></th>\n",
       "      <th>text</th>\n",
       "      <th>n_tokens</th>\n",
       "      <th>embeddings</th>\n",
       "    </tr>\n",
       "  </thead>\n",
       "  <tbody>\n",
       "    <tr>\n",
       "      <th>0</th>\n",
       "      <td>WHAT IS A CULTURE MAP?</td>\n",
       "      <td>8</td>\n",
       "      <td>[-0.021535981446504593, -0.0006195246824063361...</td>\n",
       "    </tr>\n",
       "    <tr>\n",
       "      <th>1</th>\n",
       "      <td>With the Culture Map you can visualize the cul...</td>\n",
       "      <td>37</td>\n",
       "      <td>[-0.03665049001574516, 0.002686046762391925, 0...</td>\n",
       "    </tr>\n",
       "    <tr>\n",
       "      <th>2</th>\n",
       "      <td>The Culture Map is utilized in various situati...</td>\n",
       "      <td>11</td>\n",
       "      <td>[-0.019889313727617264, 0.013448194600641727, ...</td>\n",
       "    </tr>\n",
       "    <tr>\n",
       "      <th>3</th>\n",
       "      <td>Developing hypotheses during a change process</td>\n",
       "      <td>7</td>\n",
       "      <td>[0.002740309340879321, 0.00392221100628376, -0...</td>\n",
       "    </tr>\n",
       "    <tr>\n",
       "      <th>4</th>\n",
       "      <td>Identifying hidden assumptions during a team r...</td>\n",
       "      <td>8</td>\n",
       "      <td>[0.010800959542393684, -0.013984978199005127, ...</td>\n",
       "    </tr>\n",
       "  </tbody>\n",
       "</table>\n",
       "</div>"
      ],
      "text/plain": [
       "                                                text  n_tokens  \\\n",
       "0                             WHAT IS A CULTURE MAP?         8   \n",
       "1  With the Culture Map you can visualize the cul...        37   \n",
       "2  The Culture Map is utilized in various situati...        11   \n",
       "3      Developing hypotheses during a change process         7   \n",
       "4  Identifying hidden assumptions during a team r...         8   \n",
       "\n",
       "                                          embeddings  \n",
       "0  [-0.021535981446504593, -0.0006195246824063361...  \n",
       "1  [-0.03665049001574516, 0.002686046762391925, 0...  \n",
       "2  [-0.019889313727617264, 0.013448194600641727, ...  \n",
       "3  [0.002740309340879321, 0.00392221100628376, -0...  \n",
       "4  [0.010800959542393684, -0.013984978199005127, ...  "
      ]
     },
     "execution_count": 25,
     "metadata": {},
     "output_type": "execute_result"
    }
   ],
   "source": [
    "df=pd.read_csv(embeddings_filename, index_col=0)\n",
    "df['embeddings'] = df['embeddings'].apply(eval).apply(np.array)\n",
    "\n",
    "df.head()"
   ]
  },
  {
   "cell_type": "code",
   "execution_count": 26,
   "id": "5944fbad",
   "metadata": {},
   "outputs": [],
   "source": [
    "def create_context(\n",
    "    question, df, max_len=1800, size=\"ada\"\n",
    "):\n",
    "    \"\"\"\n",
    "    Create a context for a question by finding the most similar context from the dataframe\n",
    "    \"\"\"\n",
    "\n",
    "    # Get the embeddings for the question\n",
    "    q_embeddings = openai.Embedding.create(input=question, engine='text-embedding-ada-002')['data'][0]['embedding']\n",
    "\n",
    "    # Get the distances from the embeddings\n",
    "    df['distances'] = distances_from_embeddings(q_embeddings, df['embeddings'].values, distance_metric='cosine')\n",
    "\n",
    "\n",
    "    returns = []\n",
    "    cur_len = 0\n",
    "\n",
    "    # Sort by distance and add the text to the context until the context is too long\n",
    "    for i, row in df.sort_values('distances', ascending=True).iterrows():\n",
    "        \n",
    "        # Add the length of the text to the current length\n",
    "        cur_len += row['n_tokens'] + 4\n",
    "        \n",
    "        # If the context is too long, break\n",
    "        if cur_len > max_len:\n",
    "            break\n",
    "        \n",
    "        # Else add it to the text that is being returned\n",
    "        returns.append(row[\"text\"])\n",
    "\n",
    "    # Return the context\n",
    "    return \"\\n\\n###\\n\\n\".join(returns)"
   ]
  },
  {
   "cell_type": "code",
   "execution_count": 27,
   "id": "0ea485d6",
   "metadata": {},
   "outputs": [],
   "source": [
    "def answer_question(\n",
    "    df,\n",
    "    model=\"text-davinci-003\",\n",
    "    question=\"what is lean?\",\n",
    "    max_len=1800,\n",
    "    size=\"ada\",\n",
    "    debug=False,\n",
    "    max_tokens=150,\n",
    "    stop_sequence=None\n",
    "):\n",
    "    \"\"\"\n",
    "    Answer a question based on the most similar context from the dataframe texts\n",
    "    \"\"\"\n",
    "    context = create_context(\n",
    "        question,\n",
    "        df,\n",
    "        max_len=max_len,\n",
    "        size=size,\n",
    "    )\n",
    "    # If debug, print the raw model response\n",
    "    if debug:\n",
    "        print(\"Context:\\n\" + context)\n",
    "        print(\"\\n\\n\")\n",
    "\n",
    "    try:\n",
    "        # Create a completions using the question and context\n",
    "        response = openai.Completion.create(\n",
    "            prompt=f\"Answer the question based on the context below, and if the question can't be answered based on the context, say \\\"I don't know. This is not discussed in the book\\\"\\n\\nContext: {context}\\n\\n---\\n\\nQuestion: {question}\\nAnswer:\",\n",
    "            temperature=0,\n",
    "            max_tokens=max_tokens,\n",
    "            top_p=1,\n",
    "            frequency_penalty=0,\n",
    "            presence_penalty=0,\n",
    "            stop=stop_sequence,\n",
    "            model=model,\n",
    "        )\n",
    "        return response[\"choices\"][0][\"text\"].strip()\n",
    "    except Exception as e:\n",
    "        print(e)\n",
    "        return \"\""
   ]
  },
  {
   "cell_type": "code",
   "execution_count": 28,
   "id": "3ac851b2",
   "metadata": {},
   "outputs": [
    {
     "data": {
      "text/plain": [
       "'Divide the participants into small groups and think of this as a brainstorming session without limitations. Encourage your team to explore different variations of the same problem, no matter how unlikely or absurd they may seem. For example, consider scenarios such as a monster eating a team member or an elephant eating your guest of honor. Also, explore very different, unrelated problems, such as what to do if no one shows up to your event, your website goes down, or the most important person backs out on you. Exercise instructions: \"You\\'re team is telling your stakeholders you\\'re going to use Scrum. They asked you \"what is Scrum\" and you ahve 30 seconds to explain. After the 30 seconds is over, the next team adds to'"
      ]
     },
     "execution_count": 28,
     "metadata": {},
     "output_type": "execute_result"
    }
   ],
   "source": [
    "answer_question(df, question=\"What is a good way for teams to get started?\")"
   ]
  },
  {
   "cell_type": "code",
   "execution_count": 29,
   "id": "64e823bf",
   "metadata": {},
   "outputs": [
    {
     "data": {
      "text/plain": [
       "'There are several methods for validating an idea, such as assessment, fact finding, tests, and experiments. These methods can include stakeholder reviews, competitor analysis, business modeling, human operated tests, prototyping, and large scale tests. Additionally, the feedback from customer interviews, market research, and low fidelity prototypes can help to assess the effectiveness of the approach and identify any changes that need to be made.'"
      ]
     },
     "execution_count": 29,
     "metadata": {},
     "output_type": "execute_result"
    }
   ],
   "source": [
    "answer_question(df, question=\"How can I find out if my idea works?\")"
   ]
  },
  {
   "cell_type": "code",
   "execution_count": 30,
   "id": "6b5c7ca2",
   "metadata": {},
   "outputs": [
    {
     "data": {
      "text/plain": [
       "'Crazy8 is a method of brainstorming and idea generation developed by Jake Knapp. It involves sketching out 8 ideas in 8 minutes.'"
      ]
     },
     "execution_count": 30,
     "metadata": {},
     "output_type": "execute_result"
    }
   ],
   "source": [
    "answer_question(df, question=\"Was ist Crazy8\")"
   ]
  },
  {
   "cell_type": "code",
   "execution_count": null,
   "id": "2f63686f",
   "metadata": {},
   "outputs": [],
   "source": []
  }
 ],
 "metadata": {
  "kernelspec": {
   "display_name": "Python 3 (ipykernel)",
   "language": "python",
   "name": "python3"
  },
  "language_info": {
   "codemirror_mode": {
    "name": "ipython",
    "version": 3
   },
   "file_extension": ".py",
   "mimetype": "text/x-python",
   "name": "python",
   "nbconvert_exporter": "python",
   "pygments_lexer": "ipython3",
   "version": "3.11.1"
  }
 },
 "nbformat": 4,
 "nbformat_minor": 5
}
